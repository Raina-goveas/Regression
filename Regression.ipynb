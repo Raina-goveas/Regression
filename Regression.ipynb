{
  "cells": [
    {
      "cell_type": "markdown",
      "source": [
        "Regression on benchmark dataset"
      ],
      "metadata": {
        "id": "LQz_MTD_bEW_"
      }
    },
    {
      "cell_type": "markdown",
      "metadata": {
        "id": "uZfojFSKa5Ce"
      },
      "source": [
        "## BSE Stock"
      ]
    },
    {
      "cell_type": "code",
      "execution_count": null,
      "metadata": {
        "id": "1FAXCksNa5Cq"
      },
      "outputs": [],
      "source": [
        "import numpy as np \n",
        "import pandas as pd \n",
        "import matplotlib.pyplot as plt\n",
        "%matplotlib inline\n",
        "import seaborn as sns"
      ]
    },
    {
      "cell_type": "code",
      "execution_count": null,
      "metadata": {
        "id": "xTFeuyJEa5Cs",
        "outputId": "49e8c06e-6212-47ae-f353-8d06016e448b"
      },
      "outputs": [
        {
          "data": {
            "text/html": [
              "<div>\n",
              "<style scoped>\n",
              "    .dataframe tbody tr th:only-of-type {\n",
              "        vertical-align: middle;\n",
              "    }\n",
              "\n",
              "    .dataframe tbody tr th {\n",
              "        vertical-align: top;\n",
              "    }\n",
              "\n",
              "    .dataframe thead th {\n",
              "        text-align: right;\n",
              "    }\n",
              "</style>\n",
              "<table border=\"1\" class=\"dataframe\">\n",
              "  <thead>\n",
              "    <tr style=\"text-align: right;\">\n",
              "      <th></th>\n",
              "      <th>Date</th>\n",
              "      <th>Open</th>\n",
              "      <th>High</th>\n",
              "      <th>Low</th>\n",
              "      <th>Close</th>\n",
              "    </tr>\n",
              "  </thead>\n",
              "  <tbody>\n",
              "    <tr>\n",
              "      <th>0</th>\n",
              "      <td>01/01/2009</td>\n",
              "      <td>9720.55</td>\n",
              "      <td>9921.70</td>\n",
              "      <td>9711.64</td>\n",
              "      <td>9903.46</td>\n",
              "    </tr>\n",
              "    <tr>\n",
              "      <th>1</th>\n",
              "      <td>02/01/2009</td>\n",
              "      <td>9973.06</td>\n",
              "      <td>10070.28</td>\n",
              "      <td>9863.86</td>\n",
              "      <td>9958.22</td>\n",
              "    </tr>\n",
              "    <tr>\n",
              "      <th>2</th>\n",
              "      <td>05/01/2009</td>\n",
              "      <td>10109.67</td>\n",
              "      <td>10306.17</td>\n",
              "      <td>10069.11</td>\n",
              "      <td>10275.60</td>\n",
              "    </tr>\n",
              "    <tr>\n",
              "      <th>3</th>\n",
              "      <td>06/01/2009</td>\n",
              "      <td>10258.38</td>\n",
              "      <td>10392.12</td>\n",
              "      <td>10150.68</td>\n",
              "      <td>10335.93</td>\n",
              "    </tr>\n",
              "    <tr>\n",
              "      <th>4</th>\n",
              "      <td>07/01/2009</td>\n",
              "      <td>10424.96</td>\n",
              "      <td>10469.72</td>\n",
              "      <td>9510.15</td>\n",
              "      <td>9586.88</td>\n",
              "    </tr>\n",
              "  </tbody>\n",
              "</table>\n",
              "</div>"
            ],
            "text/plain": [
              "         Date      Open      High       Low     Close\n",
              "0  01/01/2009   9720.55   9921.70   9711.64   9903.46\n",
              "1  02/01/2009   9973.06  10070.28   9863.86   9958.22\n",
              "2  05/01/2009  10109.67  10306.17  10069.11  10275.60\n",
              "3  06/01/2009  10258.38  10392.12  10150.68  10335.93\n",
              "4  07/01/2009  10424.96  10469.72   9510.15   9586.88"
            ]
          },
          "execution_count": 2,
          "metadata": {},
          "output_type": "execute_result"
        }
      ],
      "source": [
        "df_stock = pd.read_csv('bse_stock.csv')\n",
        "df_stock.head()"
      ]
    },
    {
      "cell_type": "code",
      "execution_count": null,
      "metadata": {
        "id": "frOfoYw-a5Cu",
        "outputId": "16e26235-5185-44c7-b9d0-5e205bed1923"
      },
      "outputs": [
        {
          "name": "stdout",
          "output_type": "stream",
          "text": [
            "<class 'pandas.core.frame.DataFrame'>\n",
            "RangeIndex: 2557 entries, 0 to 2556\n",
            "Data columns (total 5 columns):\n",
            " #   Column  Non-Null Count  Dtype  \n",
            "---  ------  --------------  -----  \n",
            " 0   Date    2557 non-null   object \n",
            " 1   Open    2557 non-null   float64\n",
            " 2   High    2557 non-null   float64\n",
            " 3   Low     2557 non-null   float64\n",
            " 4   Close   2557 non-null   float64\n",
            "dtypes: float64(4), object(1)\n",
            "memory usage: 100.0+ KB\n"
          ]
        }
      ],
      "source": [
        "df_stock.info()"
      ]
    },
    {
      "cell_type": "code",
      "execution_count": null,
      "metadata": {
        "id": "fuje7D8sa5Cv",
        "outputId": "6e4b2cc7-38f2-44c1-dfbd-5854e7360949"
      },
      "outputs": [
        {
          "data": {
            "text/html": [
              "<div>\n",
              "<style scoped>\n",
              "    .dataframe tbody tr th:only-of-type {\n",
              "        vertical-align: middle;\n",
              "    }\n",
              "\n",
              "    .dataframe tbody tr th {\n",
              "        vertical-align: top;\n",
              "    }\n",
              "\n",
              "    .dataframe thead th {\n",
              "        text-align: right;\n",
              "    }\n",
              "</style>\n",
              "<table border=\"1\" class=\"dataframe\">\n",
              "  <thead>\n",
              "    <tr style=\"text-align: right;\">\n",
              "      <th></th>\n",
              "      <th>Open</th>\n",
              "      <th>High</th>\n",
              "      <th>Low</th>\n",
              "      <th>Close</th>\n",
              "    </tr>\n",
              "  </thead>\n",
              "  <tbody>\n",
              "    <tr>\n",
              "      <th>count</th>\n",
              "      <td>2557.000000</td>\n",
              "      <td>2557.000000</td>\n",
              "      <td>2557.000000</td>\n",
              "      <td>2557.000000</td>\n",
              "    </tr>\n",
              "    <tr>\n",
              "      <th>mean</th>\n",
              "      <td>23625.847000</td>\n",
              "      <td>23748.206347</td>\n",
              "      <td>23467.204145</td>\n",
              "      <td>23603.610508</td>\n",
              "    </tr>\n",
              "    <tr>\n",
              "      <th>std</th>\n",
              "      <td>7084.787107</td>\n",
              "      <td>7084.036961</td>\n",
              "      <td>7061.712640</td>\n",
              "      <td>7069.469155</td>\n",
              "    </tr>\n",
              "    <tr>\n",
              "      <th>min</th>\n",
              "      <td>8103.750000</td>\n",
              "      <td>8259.220000</td>\n",
              "      <td>8047.170000</td>\n",
              "      <td>8160.400000</td>\n",
              "    </tr>\n",
              "    <tr>\n",
              "      <th>25%</th>\n",
              "      <td>17827.250000</td>\n",
              "      <td>17948.540000</td>\n",
              "      <td>17694.830000</td>\n",
              "      <td>17823.400000</td>\n",
              "    </tr>\n",
              "    <tr>\n",
              "      <th>50%</th>\n",
              "      <td>21237.960000</td>\n",
              "      <td>21304.700000</td>\n",
              "      <td>21133.820000</td>\n",
              "      <td>21209.730000</td>\n",
              "    </tr>\n",
              "    <tr>\n",
              "      <th>75%</th>\n",
              "      <td>28298.350000</td>\n",
              "      <td>28404.700000</td>\n",
              "      <td>28138.300000</td>\n",
              "      <td>28243.290000</td>\n",
              "    </tr>\n",
              "    <tr>\n",
              "      <th>max</th>\n",
              "      <td>39420.040000</td>\n",
              "      <td>39487.450000</td>\n",
              "      <td>39083.160000</td>\n",
              "      <td>39275.640000</td>\n",
              "    </tr>\n",
              "  </tbody>\n",
              "</table>\n",
              "</div>"
            ],
            "text/plain": [
              "               Open          High           Low         Close\n",
              "count   2557.000000   2557.000000   2557.000000   2557.000000\n",
              "mean   23625.847000  23748.206347  23467.204145  23603.610508\n",
              "std     7084.787107   7084.036961   7061.712640   7069.469155\n",
              "min     8103.750000   8259.220000   8047.170000   8160.400000\n",
              "25%    17827.250000  17948.540000  17694.830000  17823.400000\n",
              "50%    21237.960000  21304.700000  21133.820000  21209.730000\n",
              "75%    28298.350000  28404.700000  28138.300000  28243.290000\n",
              "max    39420.040000  39487.450000  39083.160000  39275.640000"
            ]
          },
          "execution_count": 4,
          "metadata": {},
          "output_type": "execute_result"
        }
      ],
      "source": [
        "df_stock.describe()"
      ]
    },
    {
      "cell_type": "code",
      "execution_count": null,
      "metadata": {
        "id": "hfVysd7qa5Cw",
        "outputId": "594128cb-0b5c-4f7c-f472-87bd817f4c8a"
      },
      "outputs": [
        {
          "data": {
            "text/plain": [
              "Index(['Date', 'Open', 'High', 'Low', 'Close'], dtype='object')"
            ]
          },
          "execution_count": 5,
          "metadata": {},
          "output_type": "execute_result"
        }
      ],
      "source": [
        "df_stock.columns"
      ]
    },
    {
      "cell_type": "code",
      "execution_count": null,
      "metadata": {
        "id": "wQrYW0CKa5Cx",
        "outputId": "fa5f44f0-e17a-44c9-b745-3095fbb6911c"
      },
      "outputs": [
        {
          "data": {
            "text/plain": [
              "Date     0\n",
              "Open     0\n",
              "High     0\n",
              "Low      0\n",
              "Close    0\n",
              "dtype: int64"
            ]
          },
          "execution_count": 6,
          "metadata": {},
          "output_type": "execute_result"
        }
      ],
      "source": [
        "df_stock.isnull().sum()"
      ]
    },
    {
      "cell_type": "code",
      "execution_count": null,
      "metadata": {
        "id": "vXSv94UXa5Cy",
        "outputId": "88f94020-08f2-4392-8a19-4d34e7862526"
      },
      "outputs": [
        {
          "data": {
            "text/plain": [
              "<matplotlib.axes._subplots.AxesSubplot at 0x1b396722808>"
            ]
          },
          "execution_count": 7,
          "metadata": {},
          "output_type": "execute_result"
        },
        {
          "data": {
            "image/png": "[encoded data removed]",
            "text/plain": [
              "<Figure size 432x288 with 1 Axes>"
            ]
          },
          "metadata": {
            "needs_background": "light"
          },
          "output_type": "display_data"
        }
      ],
      "source": [
        "sns.lineplot(df_stock[\"Open\"],df_stock[\"Close\"],data=df_stock,color=\"r\")"
      ]
    },
    {
      "cell_type": "code",
      "execution_count": null,
      "metadata": {
        "id": "wi1fjavza5Cz",
        "outputId": "461c857e-e55e-45fa-981f-da2019fb0ed1"
      },
      "outputs": [
        {
          "data": {
            "text/html": [
              "<div>\n",
              "<style scoped>\n",
              "    .dataframe tbody tr th:only-of-type {\n",
              "        vertical-align: middle;\n",
              "    }\n",
              "\n",
              "    .dataframe tbody tr th {\n",
              "        vertical-align: top;\n",
              "    }\n",
              "\n",
              "    .dataframe thead th {\n",
              "        text-align: right;\n",
              "    }\n",
              "</style>\n",
              "<table border=\"1\" class=\"dataframe\">\n",
              "  <thead>\n",
              "    <tr style=\"text-align: right;\">\n",
              "      <th></th>\n",
              "      <th>Open</th>\n",
              "      <th>High</th>\n",
              "      <th>Low</th>\n",
              "    </tr>\n",
              "  </thead>\n",
              "  <tbody>\n",
              "    <tr>\n",
              "      <th>Open</th>\n",
              "      <td>1.000000</td>\n",
              "      <td>0.999863</td>\n",
              "      <td>0.999789</td>\n",
              "    </tr>\n",
              "    <tr>\n",
              "      <th>High</th>\n",
              "      <td>0.999863</td>\n",
              "      <td>1.000000</td>\n",
              "      <td>0.999801</td>\n",
              "    </tr>\n",
              "    <tr>\n",
              "      <th>Low</th>\n",
              "      <td>0.999789</td>\n",
              "      <td>0.999801</td>\n",
              "      <td>1.000000</td>\n",
              "    </tr>\n",
              "  </tbody>\n",
              "</table>\n",
              "</div>"
            ],
            "text/plain": [
              "          Open      High       Low\n",
              "Open  1.000000  0.999863  0.999789\n",
              "High  0.999863  1.000000  0.999801\n",
              "Low   0.999789  0.999801  1.000000"
            ]
          },
          "execution_count": 8,
          "metadata": {},
          "output_type": "execute_result"
        }
      ],
      "source": [
        "#feature correlation\n",
        "df1=df_stock[[\"Open\",\"High\",\"Low\"]]\n",
        "df1.corr()"
      ]
    },
    {
      "cell_type": "code",
      "execution_count": null,
      "metadata": {
        "id": "5IPYRlPfa5C1"
      },
      "outputs": [],
      "source": [
        "X=df_stock[\"Open\"].values.reshape(-1,1)\n",
        "y=df_stock[\"Close\"]"
      ]
    },
    {
      "cell_type": "code",
      "execution_count": null,
      "metadata": {
        "id": "fuuaPD50a5C1"
      },
      "outputs": [],
      "source": [
        "#train test and split\n",
        "from sklearn.model_selection import train_test_split\n",
        "X_train,X_test,y_train,y_test= train_test_split(X,y,test_size=0.2,random_state=1)"
      ]
    },
    {
      "cell_type": "code",
      "execution_count": null,
      "metadata": {
        "id": "GLaAqR_3a5C2",
        "outputId": "7381f8ca-4ab5-42de-f4c3-252ee936bfea"
      },
      "outputs": [
        {
          "data": {
            "text/plain": [
              "LinearRegression()"
            ]
          },
          "execution_count": 11,
          "metadata": {},
          "output_type": "execute_result"
        }
      ],
      "source": [
        "from sklearn.linear_model import LinearRegression\n",
        "lreg=LinearRegression()\n",
        "lreg.fit(X_train,y_train)"
      ]
    },
    {
      "cell_type": "code",
      "execution_count": null,
      "metadata": {
        "id": "e4BbDFF_a5C3",
        "outputId": "e42fae0f-40f5-45e9-a288-17f13ef5d10c"
      },
      "outputs": [
        {
          "data": {
            "text/plain": [
              "array([26703.55821426, 18364.0383232 , 33708.0234078 , 17162.1967688 ,\n",
              "       36372.33615545,  9326.73577656, 26700.78460328, 17705.72475048,\n",
              "       24803.13584286, 10432.81791306, 23786.51762596, 31258.30633838,\n",
              "       25726.54875846, 27448.53216455, 19197.92745709, 21521.75451454,\n",
              "       19856.15123665, 27701.20014311, 19483.26019229, 22393.10735068,\n",
              "       17370.55681083, 28510.49592785, 21276.45955221, 17171.97424635,\n",
              "       27222.52277784, 17906.24285642, 28183.06017708, 17386.52003948,\n",
              "       32213.67564234, 20984.1528815 , 17414.28608032, 21800.86159055,\n",
              "       35158.09316779, 27738.78356957, 26390.62904753, 18217.08682641,\n",
              "       18070.55436437, 34935.00704733, 20149.32590792, 17766.04580076,\n",
              "       27945.94636944, 25538.25249945, 17650.60172653, 25401.7968255 ,\n",
              "       35648.20419557, 26631.25476547, 20520.52085925, 19189.5766931 ,\n",
              "       28986.18018774,  8595.15098431, 33941.25615547, 16415.27730003,\n",
              "       16182.27402377, 18232.14214644, 30247.82398749,  9034.1198183 ,\n",
              "       25191.5511271 , 17593.75267848, 26467.21263701, 20342.82019326,\n",
              "       33224.32760253, 25817.21989722, 17438.97919965, 31854.74244603,\n",
              "       38615.56886222, 17024.21461112, 25644.29822281, 19968.79176885,\n",
              "       38739.63307992, 25749.11677297, 16876.37515973, 18415.32019525,\n",
              "       25390.51281825, 28009.9888474 , 15484.19205766, 27150.52861661,\n",
              "       17543.16919768, 27905.23015935, 27743.68228536, 28787.97674995,\n",
              "       26654.95018301, 34510.95385512, 30949.46774899, 29501.96208261,\n",
              "       33974.89865987, 12001.61418617, 20975.82207155, 14786.10011453,\n",
              "       27327.1717187 , 18241.05162343, 37843.31774497, 14617.19917834,\n",
              "       18103.91751226, 35445.10204199, 15734.69502333, 22530.57070344,\n",
              "       33343.55296655, 19205.60976088, 19597.45713928, 27916.71370697,\n",
              "       26381.77943265, 16440.86835096, 25514.03827699, 27281.39716053,\n",
              "       25469.60063922, 26440.40438988, 33797.50728143, 36606.27727139,\n",
              "       38292.07403352, 20311.76173651, 17960.70739719, 34334.60008656,\n",
              "       17201.39647217, 26557.57448821, 15858.78917209, 24498.58737118,\n",
              "       19774.42948296, 25964.49065858, 19768.94212311, 17684.81292094,\n",
              "       38931.86028398, 16258.53834867, 20208.78893467, 20899.50786156,\n",
              "       28854.41371221, 18884.6291407 , 25758.16592821, 20847.01877034,\n",
              "       20114.55600051, 27101.17230901, 27408.85356432, 18605.58192679,\n",
              "       27313.82246873, 20716.60916924, 17373.95897393, 23201.87435348,\n",
              "       26830.89489384, 10812.12417995, 27435.33256985, 22355.37426895,\n",
              "       27489.84699571, 37553.67493804, 26222.86549138, 33898.53456479,\n",
              "       25273.01347833, 31380.45496864, 17422.44728097, 28123.69692052,\n",
              "       26664.87731583, 18480.1907657 , 34386.81979829, 17268.98079149,\n",
              "       18765.28405247, 27848.46092745, 25679.08808426, 18389.85884555,\n",
              "       25770.57733849, 31232.66540235, 19352.64107382, 16179.87953947,\n",
              "       31259.40381035, 17670.52583129, 19354.56663827, 18445.20136389,\n",
              "       17289.12439065, 34120.82252381, 28338.86128876, 20146.03349201,\n",
              "       19675.65700565, 19564.57288825, 19498.94406444, 16132.14948579,\n",
              "       16900.6991294 , 16898.46427738, 25810.14619152, 30726.88047943,\n",
              "       34553.78519301, 28236.95602783, 19839.84878939, 17196.59752656,\n",
              "       20841.73095084, 15893.59898758, 18014.34384547, 28790.76033795,\n",
              "       18747.23562707, 18437.81837064, 36365.70143854, 14975.89292622,\n",
              "       31470.01865842, 18189.9493377 , 18656.63432743,  9088.6043131 ,\n",
              "       34515.68296161, 30027.32191467, 20001.67601988, 33934.48176031,\n",
              "       25833.85158607, 16150.67680805, 21854.22865935, 26977.86634467,\n",
              "       34695.91779015, 25522.0697764 , 35505.93192019, 19430.42190544,\n",
              "       17915.79086256, 17224.77262513, 19930.28047972, 37785.49094916,\n",
              "       22750.72358063, 18886.57465919, 15888.36105317, 19501.84737665,\n",
              "       36691.39121117, 35336.01332817, 26964.25769224, 31262.05769711,\n",
              "       18738.09667866, 16812.90137179, 25398.70394995, 26102.02385046,\n",
              "       18290.30816085, 32424.30046743, 14551.09145767, 16680.78570063,\n",
              "       31632.46446402, 24973.15420506, 17081.76205042, 17121.28101836,\n",
              "       16432.48765592, 36269.52298589, 27471.51921381, 27033.94716234,\n",
              "       25649.85542179, 17448.06826296, 26379.74412099, 18288.35266534,\n",
              "       18103.97737437, 33621.78206499, 18616.6763707 , 26664.7476146 ,\n",
              "       24457.41221826, 28352.65950452, 22362.51781377, 31944.70521652,\n",
              "       18156.70591402, 27910.63770306, 17032.505513  , 19964.09259342,\n",
              "       28089.66531243, 25531.55792043, 16291.39266864, 19685.1551267 ,\n",
              "       28438.70130698, 17692.20589121, 14692.35605425, 28548.458481  ,\n",
              "       16981.06400866, 17187.80777378, 18279.56291256,  9642.88752008,\n",
              "       33987.87876017, 16656.78099554, 19721.74085138, 20271.28497485,\n",
              "       34824.83083856, 17193.6143982 , 18547.49572852, 19453.36904663,\n",
              "       16578.80062356, 27729.04600009, 31841.34331097, 10045.54998589,\n",
              "       34491.2193137 , 34363.97242728, 16614.05940486, 28431.83711865,\n",
              "       33234.7236552 , 28512.52126249, 24776.51715908, 18512.04738389,\n",
              "       20198.81191676, 16968.56280522, 17147.14144878, 29529.5884452 ,\n",
              "       17972.76961184, 29416.98782107, 32613.51461208, 27772.49591309,\n",
              "       20606.03387975, 32148.95472716, 33245.26936313, 38303.97661589,\n",
              "       20879.9229754 , 18216.13900971, 29000.75661091, 35909.36261637,\n",
              "       20679.73411105,  8805.4964529 , 38982.3938797 , 29958.90950286,\n",
              "       25486.92074231, 27141.03049556, 17515.01405314, 14589.56283873,\n",
              "       17191.33963812, 31497.14617011, 26647.72682204, 19241.76647379,\n",
              "       17059.73279487, 19386.7824291 , 28191.98960811, 36533.23552327,\n",
              "       21098.28996639, 18821.28505399, 27933.68461443, 20851.02953154,\n",
              "       16860.00287334, 18788.32098682, 35378.814735  , 34603.99952415,\n",
              "       13406.95697487, 26453.51419142, 16850.30521193, 19911.78308852,\n",
              "       17221.93915205, 25920.48203258, 25864.80029563, 20829.67871321,\n",
              "       26276.26249124, 19587.0511096 , 25211.35550765, 28293.82502991,\n",
              "       33735.19082757, 35861.27339005, 17567.21381084, 32308.17795598,\n",
              "       19569.31197176, 16438.46388965, 33771.18790819, 28399.47167256,\n",
              "       29016.94931097, 19078.26310429, 18304.40568715, 17169.2704745 ,\n",
              "       26088.31542786, 19370.1806713 , 17795.83717624, 20861.55528543,\n",
              "       19510.64710645, 19278.40208355, 20072.54277809, 35540.8115748 ,\n",
              "       27603.55506883, 33843.32174768, 26011.64204522, 18334.77572967,\n",
              "       26651.96705465, 17906.77163837, 35208.09798155, 19280.48728029,\n",
              "       16820.99273332, 27775.72846689, 18684.1908509 , 19166.5098277 ,\n",
              "       20645.40319242, 33916.85236967, 16338.59394037, 13796.30012177,\n",
              "       28487.02998173, 19717.84981439, 28889.40311402, 19558.49688434,\n",
              "       20104.39939628, 29027.92403067, 25641.53458885, 17328.61342753,\n",
              "       26886.94578046, 27573.42447474, 24956.62228638, 20853.46392391,\n",
              "       17328.10459962, 38404.38532413, 31933.92006016, 25538.5019249 ,\n",
              "       19450.19635493, 19165.80145942, 27520.76577421, 26624.41053119,\n",
              "       27498.80635779, 17465.48813623, 20185.59236803, 31697.61439097,\n",
              "       38310.43174647, 17732.95203235, 29415.78060191, 17652.61708414,\n",
              "       16127.4203793 , 29909.88243686, 19316.56417705, 29940.42208868,\n",
              "       28893.00481748, 34443.92824881, 33410.94772253, 19267.27770858,\n",
              "       20580.8818176 , 27917.1227647 , 25863.34365102, 27950.64554488,\n",
              "       19294.11588676, 35883.73165736, 35300.42530529, 17394.06266502,\n",
              "       18928.03914562, 17622.93545586, 19983.68745659, 38757.37221776,\n",
              "       27300.8224144 , 20301.70490246, 17180.20528613, 35304.52585965,\n",
              "       35049.14413222, 17715.67183733, 18063.9396015 , 19576.23602219,\n",
              "       18184.15269029, 27492.42106633, 16037.12836722, 25828.52385851,\n",
              "       16694.71361764, 16076.62738112, 17217.76875856, 27850.48626209,\n",
              "       29099.78849068, 17518.45612432, 19555.6334802 , 25577.89119161,\n",
              "       17963.1617436 , 25670.4180557 , 35025.52853082, 27230.92342692,\n",
              "       19714.49753637, 18186.08823177, 19291.5218621 , 26338.69866931,\n",
              "       20392.09668472, 23665.98527259, 29371.91165416, 28491.90874349,\n",
              "       34446.23293995, 18676.1693285 , 25980.29425495,  9452.41627117,\n",
              "       22578.0712857 , 28808.61920001, 33767.93540035, 30103.9354352 ,\n",
              "       25036.27879737, 17444.26701914, 27533.95539189, 16064.66493665,\n",
              "       18122.84391524, 35997.95853541, 18281.99730493, 15422.22479942,\n",
              "       17715.07321626, 26858.23192291, 29305.79395647, 34531.33690271,\n",
              "       11097.88592691, 27598.5266518 , 14324.47347288, 31846.00257834,\n",
              "       18333.92768315, 31569.10042328, 25928.58337113, 21034.43705177,\n",
              "       19910.0470874 , 20099.95962331, 16958.40620098, 13780.55638751,\n",
              "       26694.40928884, 17478.31858127, 29052.21806928, 33191.18394904,\n",
              "       19904.24046298, 19931.66728521, 36260.10468098, 33563.16708478,\n",
              "       29135.54612286, 20988.08382656, 31672.43239777, 16779.51826987,\n",
              "       19406.1677749 , 19081.11653141, 27834.57291852, 17585.05271886,\n",
              "       25623.48616345, 26519.47225682, 17062.35675058, 26405.22542473,\n",
              "       17061.43886494, 20485.91058412, 36325.24463091, 16795.59124572,\n",
              "       21734.26499601, 21219.66038926, 31744.00752425, 31869.29891516,\n",
              "       26896.1046829 , 17110.61558621, 25276.64511285, 18249.93116937])"
            ]
          },
          "execution_count": 12,
          "metadata": {},
          "output_type": "execute_result"
        }
      ],
      "source": [
        "y_pred=lreg.predict(X_test)\n",
        "y_pred"
      ]
    },
    {
      "cell_type": "code",
      "execution_count": null,
      "metadata": {
        "id": "E9hFfE6wa5C4",
        "outputId": "a55c30b8-bd9a-4138-ef80-ededb9f11dfb"
      },
      "outputs": [
        {
          "data": {
            "text/plain": [
              "<matplotlib.axes._subplots.AxesSubplot at 0x1b3975f8988>"
            ]
          },
          "execution_count": 13,
          "metadata": {},
          "output_type": "execute_result"
        },
        {
          "data": {
            "image/png": "[encoded data removed]",
            "text/plain": [
              "<Figure size 432x288 with 1 Axes>"
            ]
          },
          "metadata": {
            "needs_background": "light"
          },
          "output_type": "display_data"
        }
      ],
      "source": [
        "sns.lineplot(y_test,y_pred)"
      ]
    },
    {
      "cell_type": "code",
      "execution_count": null,
      "metadata": {
        "id": "nNszJLzFa5C5",
        "outputId": "2b033b9d-ce40-47b3-8546-96d1b64b6f5b"
      },
      "outputs": [
        {
          "data": {
            "text/plain": [
              "0.9990372652001522"
            ]
          },
          "execution_count": 14,
          "metadata": {},
          "output_type": "execute_result"
        }
      ],
      "source": [
        "lreg.score(X_test,y_test)  #this High score suspects overfitting of data"
      ]
    },
    {
      "cell_type": "markdown",
      "metadata": {
        "id": "BZiqvAh3a5C5"
      },
      "source": [
        "## Adult Dataset"
      ]
    },
    {
      "cell_type": "code",
      "execution_count": null,
      "metadata": {
        "id": "mZv9w8dia5C5"
      },
      "outputs": [],
      "source": [
        "import numpy as np \n",
        "import pandas as pd \n",
        "import seaborn as sns\n",
        "import matplotlib.pyplot as plt\n",
        "%matplotlib inline\n",
        "\n",
        "import warnings\n",
        "warnings.filterwarnings(\"ignore\")\n",
        "\n",
        "from scipy.stats import ttest_ind, ttest_rel\n",
        "from scipy import stats"
      ]
    },
    {
      "cell_type": "code",
      "execution_count": null,
      "metadata": {
        "id": "D7bwA35Ca5C7",
        "outputId": "65a5836d-1a01-4bfe-8bbf-b186b620e250"
      },
      "outputs": [
        {
          "data": {
            "text/html": [
              "<div>\n",
              "<style scoped>\n",
              "    .dataframe tbody tr th:only-of-type {\n",
              "        vertical-align: middle;\n",
              "    }\n",
              "\n",
              "    .dataframe tbody tr th {\n",
              "        vertical-align: top;\n",
              "    }\n",
              "\n",
              "    .dataframe thead th {\n",
              "        text-align: right;\n",
              "    }\n",
              "</style>\n",
              "<table border=\"1\" class=\"dataframe\">\n",
              "  <thead>\n",
              "    <tr style=\"text-align: right;\">\n",
              "      <th></th>\n",
              "      <th>age</th>\n",
              "      <th>workclass</th>\n",
              "      <th>fnlwgt</th>\n",
              "      <th>education</th>\n",
              "      <th>educational-num</th>\n",
              "      <th>marital-status</th>\n",
              "      <th>occupation</th>\n",
              "      <th>relationship</th>\n",
              "      <th>race</th>\n",
              "      <th>gender</th>\n",
              "      <th>capital-gain</th>\n",
              "      <th>capital-loss</th>\n",
              "      <th>hours-per-week</th>\n",
              "      <th>native-country</th>\n",
              "      <th>income</th>\n",
              "    </tr>\n",
              "  </thead>\n",
              "  <tbody>\n",
              "    <tr>\n",
              "      <th>0</th>\n",
              "      <td>25</td>\n",
              "      <td>Private</td>\n",
              "      <td>226802</td>\n",
              "      <td>11th</td>\n",
              "      <td>7</td>\n",
              "      <td>Never-married</td>\n",
              "      <td>Machine-op-inspct</td>\n",
              "      <td>Own-child</td>\n",
              "      <td>Black</td>\n",
              "      <td>Male</td>\n",
              "      <td>0</td>\n",
              "      <td>0</td>\n",
              "      <td>40</td>\n",
              "      <td>United-States</td>\n",
              "      <td>&lt;=50K</td>\n",
              "    </tr>\n",
              "    <tr>\n",
              "      <th>1</th>\n",
              "      <td>38</td>\n",
              "      <td>Private</td>\n",
              "      <td>89814</td>\n",
              "      <td>HS-grad</td>\n",
              "      <td>9</td>\n",
              "      <td>Married-civ-spouse</td>\n",
              "      <td>Farming-fishing</td>\n",
              "      <td>Husband</td>\n",
              "      <td>White</td>\n",
              "      <td>Male</td>\n",
              "      <td>0</td>\n",
              "      <td>0</td>\n",
              "      <td>50</td>\n",
              "      <td>United-States</td>\n",
              "      <td>&lt;=50K</td>\n",
              "    </tr>\n",
              "    <tr>\n",
              "      <th>2</th>\n",
              "      <td>28</td>\n",
              "      <td>Local-gov</td>\n",
              "      <td>336951</td>\n",
              "      <td>Assoc-acdm</td>\n",
              "      <td>12</td>\n",
              "      <td>Married-civ-spouse</td>\n",
              "      <td>Protective-serv</td>\n",
              "      <td>Husband</td>\n",
              "      <td>White</td>\n",
              "      <td>Male</td>\n",
              "      <td>0</td>\n",
              "      <td>0</td>\n",
              "      <td>40</td>\n",
              "      <td>United-States</td>\n",
              "      <td>&gt;50K</td>\n",
              "    </tr>\n",
              "    <tr>\n",
              "      <th>3</th>\n",
              "      <td>44</td>\n",
              "      <td>Private</td>\n",
              "      <td>160323</td>\n",
              "      <td>Some-college</td>\n",
              "      <td>10</td>\n",
              "      <td>Married-civ-spouse</td>\n",
              "      <td>Machine-op-inspct</td>\n",
              "      <td>Husband</td>\n",
              "      <td>Black</td>\n",
              "      <td>Male</td>\n",
              "      <td>7688</td>\n",
              "      <td>0</td>\n",
              "      <td>40</td>\n",
              "      <td>United-States</td>\n",
              "      <td>&gt;50K</td>\n",
              "    </tr>\n",
              "    <tr>\n",
              "      <th>4</th>\n",
              "      <td>18</td>\n",
              "      <td>?</td>\n",
              "      <td>103497</td>\n",
              "      <td>Some-college</td>\n",
              "      <td>10</td>\n",
              "      <td>Never-married</td>\n",
              "      <td>?</td>\n",
              "      <td>Own-child</td>\n",
              "      <td>White</td>\n",
              "      <td>Female</td>\n",
              "      <td>0</td>\n",
              "      <td>0</td>\n",
              "      <td>30</td>\n",
              "      <td>United-States</td>\n",
              "      <td>&lt;=50K</td>\n",
              "    </tr>\n",
              "  </tbody>\n",
              "</table>\n",
              "</div>"
            ],
            "text/plain": [
              "   age  workclass  fnlwgt     education  educational-num      marital-status  \\\n",
              "0   25    Private  226802          11th                7       Never-married   \n",
              "1   38    Private   89814       HS-grad                9  Married-civ-spouse   \n",
              "2   28  Local-gov  336951    Assoc-acdm               12  Married-civ-spouse   \n",
              "3   44    Private  160323  Some-college               10  Married-civ-spouse   \n",
              "4   18          ?  103497  Some-college               10       Never-married   \n",
              "\n",
              "          occupation relationship   race  gender  capital-gain  capital-loss  \\\n",
              "0  Machine-op-inspct    Own-child  Black    Male             0             0   \n",
              "1    Farming-fishing      Husband  White    Male             0             0   \n",
              "2    Protective-serv      Husband  White    Male             0             0   \n",
              "3  Machine-op-inspct      Husband  Black    Male          7688             0   \n",
              "4                  ?    Own-child  White  Female             0             0   \n",
              "\n",
              "   hours-per-week native-country income  \n",
              "0              40  United-States  <=50K  \n",
              "1              50  United-States  <=50K  \n",
              "2              40  United-States   >50K  \n",
              "3              40  United-States   >50K  \n",
              "4              30  United-States  <=50K  "
            ]
          },
          "execution_count": 16,
          "metadata": {},
          "output_type": "execute_result"
        }
      ],
      "source": [
        "df = pd.read_csv('adult.csv')\n",
        "df.head()"
      ]
    },
    {
      "cell_type": "code",
      "execution_count": null,
      "metadata": {
        "id": "UkHeIRQGa5C7",
        "outputId": "6926d33d-5cac-4c2a-a586-d8acc630b426"
      },
      "outputs": [
        {
          "data": {
            "text/plain": [
              "(48842, 15)"
            ]
          },
          "execution_count": 17,
          "metadata": {},
          "output_type": "execute_result"
        }
      ],
      "source": [
        "df.shape"
      ]
    },
    {
      "cell_type": "code",
      "execution_count": null,
      "metadata": {
        "id": "CEuRZObSa5C8"
      },
      "outputs": [],
      "source": [
        "attrib, counts = np.unique(df['workclass'], return_counts = True)\n",
        "most_freq_attrib = attrib[np.argmax(counts, axis = 0)]\n",
        "df['workclass'][df['workclass'] == '?'] = most_freq_attrib \n",
        "\n",
        "attrib, counts = np.unique(df['occupation'], return_counts = True)\n",
        "most_freq_attrib = attrib[np.argmax(counts, axis = 0)]\n",
        "df['occupation'][df['occupation'] == '?'] = most_freq_attrib \n",
        "\n",
        "attrib, counts = np.unique(df['native-country'], return_counts = True)\n",
        "most_freq_attrib = attrib[np.argmax(counts, axis = 0)]\n",
        "df['native-country'][df['native-country'] == '?'] = most_freq_attrib"
      ]
    },
    {
      "cell_type": "code",
      "execution_count": null,
      "metadata": {
        "id": "ppwamw5wa5C9",
        "outputId": "89454702-810f-4e31-d6b9-518a1d10e181"
      },
      "outputs": [
        {
          "data": {
            "text/html": [
              "<div>\n",
              "<style scoped>\n",
              "    .dataframe tbody tr th:only-of-type {\n",
              "        vertical-align: middle;\n",
              "    }\n",
              "\n",
              "    .dataframe tbody tr th {\n",
              "        vertical-align: top;\n",
              "    }\n",
              "\n",
              "    .dataframe thead th {\n",
              "        text-align: right;\n",
              "    }\n",
              "</style>\n",
              "<table border=\"1\" class=\"dataframe\">\n",
              "  <thead>\n",
              "    <tr style=\"text-align: right;\">\n",
              "      <th></th>\n",
              "      <th>age</th>\n",
              "      <th>workclass</th>\n",
              "      <th>fnlwgt</th>\n",
              "      <th>education</th>\n",
              "      <th>educational-num</th>\n",
              "      <th>marital-status</th>\n",
              "      <th>occupation</th>\n",
              "      <th>relationship</th>\n",
              "      <th>race</th>\n",
              "      <th>gender</th>\n",
              "      <th>capital-gain</th>\n",
              "      <th>capital-loss</th>\n",
              "      <th>hours-per-week</th>\n",
              "      <th>native-country</th>\n",
              "      <th>income</th>\n",
              "    </tr>\n",
              "  </thead>\n",
              "  <tbody>\n",
              "    <tr>\n",
              "      <th>0</th>\n",
              "      <td>25</td>\n",
              "      <td>Private</td>\n",
              "      <td>226802</td>\n",
              "      <td>11th</td>\n",
              "      <td>7</td>\n",
              "      <td>Never-married</td>\n",
              "      <td>Machine-op-inspct</td>\n",
              "      <td>Own-child</td>\n",
              "      <td>Black</td>\n",
              "      <td>Male</td>\n",
              "      <td>0</td>\n",
              "      <td>0</td>\n",
              "      <td>40</td>\n",
              "      <td>United-States</td>\n",
              "      <td>0</td>\n",
              "    </tr>\n",
              "    <tr>\n",
              "      <th>1</th>\n",
              "      <td>38</td>\n",
              "      <td>Private</td>\n",
              "      <td>89814</td>\n",
              "      <td>HS-grad</td>\n",
              "      <td>9</td>\n",
              "      <td>Married-civ-spouse</td>\n",
              "      <td>Farming-fishing</td>\n",
              "      <td>Husband</td>\n",
              "      <td>White</td>\n",
              "      <td>Male</td>\n",
              "      <td>0</td>\n",
              "      <td>0</td>\n",
              "      <td>50</td>\n",
              "      <td>United-States</td>\n",
              "      <td>0</td>\n",
              "    </tr>\n",
              "    <tr>\n",
              "      <th>2</th>\n",
              "      <td>28</td>\n",
              "      <td>Local-gov</td>\n",
              "      <td>336951</td>\n",
              "      <td>Assoc-acdm</td>\n",
              "      <td>12</td>\n",
              "      <td>Married-civ-spouse</td>\n",
              "      <td>Protective-serv</td>\n",
              "      <td>Husband</td>\n",
              "      <td>White</td>\n",
              "      <td>Male</td>\n",
              "      <td>0</td>\n",
              "      <td>0</td>\n",
              "      <td>40</td>\n",
              "      <td>United-States</td>\n",
              "      <td>1</td>\n",
              "    </tr>\n",
              "    <tr>\n",
              "      <th>3</th>\n",
              "      <td>44</td>\n",
              "      <td>Private</td>\n",
              "      <td>160323</td>\n",
              "      <td>Some-college</td>\n",
              "      <td>10</td>\n",
              "      <td>Married-civ-spouse</td>\n",
              "      <td>Machine-op-inspct</td>\n",
              "      <td>Husband</td>\n",
              "      <td>Black</td>\n",
              "      <td>Male</td>\n",
              "      <td>7688</td>\n",
              "      <td>0</td>\n",
              "      <td>40</td>\n",
              "      <td>United-States</td>\n",
              "      <td>1</td>\n",
              "    </tr>\n",
              "    <tr>\n",
              "      <th>4</th>\n",
              "      <td>18</td>\n",
              "      <td>Private</td>\n",
              "      <td>103497</td>\n",
              "      <td>Some-college</td>\n",
              "      <td>10</td>\n",
              "      <td>Never-married</td>\n",
              "      <td>Prof-specialty</td>\n",
              "      <td>Own-child</td>\n",
              "      <td>White</td>\n",
              "      <td>Female</td>\n",
              "      <td>0</td>\n",
              "      <td>0</td>\n",
              "      <td>30</td>\n",
              "      <td>United-States</td>\n",
              "      <td>0</td>\n",
              "    </tr>\n",
              "  </tbody>\n",
              "</table>\n",
              "</div>"
            ],
            "text/plain": [
              "   age  workclass  fnlwgt     education  educational-num      marital-status  \\\n",
              "0   25    Private  226802          11th                7       Never-married   \n",
              "1   38    Private   89814       HS-grad                9  Married-civ-spouse   \n",
              "2   28  Local-gov  336951    Assoc-acdm               12  Married-civ-spouse   \n",
              "3   44    Private  160323  Some-college               10  Married-civ-spouse   \n",
              "4   18    Private  103497  Some-college               10       Never-married   \n",
              "\n",
              "          occupation relationship   race  gender  capital-gain  capital-loss  \\\n",
              "0  Machine-op-inspct    Own-child  Black    Male             0             0   \n",
              "1    Farming-fishing      Husband  White    Male             0             0   \n",
              "2    Protective-serv      Husband  White    Male             0             0   \n",
              "3  Machine-op-inspct      Husband  Black    Male          7688             0   \n",
              "4     Prof-specialty    Own-child  White  Female             0             0   \n",
              "\n",
              "   hours-per-week native-country  income  \n",
              "0              40  United-States       0  \n",
              "1              50  United-States       0  \n",
              "2              40  United-States       1  \n",
              "3              40  United-States       1  \n",
              "4              30  United-States       0  "
            ]
          },
          "execution_count": 19,
          "metadata": {},
          "output_type": "execute_result"
        }
      ],
      "source": [
        "df['income']=df['income'].map({'<=50K': 0, '>50K': 1, '<=50K.': 0, '>50K.': 1})\n",
        "df.head()"
      ]
    },
    {
      "cell_type": "code",
      "execution_count": null,
      "metadata": {
        "id": "WmInF0Pia5C9"
      },
      "outputs": [],
      "source": [
        "# make the age variable discretized \n",
        "df['age_bin'] = pd.cut(df['age'], 20)"
      ]
    },
    {
      "cell_type": "code",
      "execution_count": null,
      "metadata": {
        "id": "ktAiX7yBa5C-"
      },
      "outputs": [],
      "source": [
        "from sklearn.preprocessing import LabelEncoder\n",
        "from sklearn.model_selection import train_test_split"
      ]
    },
    {
      "cell_type": "code",
      "execution_count": null,
      "metadata": {
        "id": "J2eIjH4Ja5C-",
        "outputId": "f5a40859-0fef-4d51-9e94-a8a580b68fcd"
      },
      "outputs": [
        {
          "data": {
            "text/html": [
              "<div>\n",
              "<style scoped>\n",
              "    .dataframe tbody tr th:only-of-type {\n",
              "        vertical-align: middle;\n",
              "    }\n",
              "\n",
              "    .dataframe tbody tr th {\n",
              "        vertical-align: top;\n",
              "    }\n",
              "\n",
              "    .dataframe thead th {\n",
              "        text-align: right;\n",
              "    }\n",
              "</style>\n",
              "<table border=\"1\" class=\"dataframe\">\n",
              "  <thead>\n",
              "    <tr style=\"text-align: right;\">\n",
              "      <th></th>\n",
              "      <th>age</th>\n",
              "      <th>workclass</th>\n",
              "      <th>fnlwgt</th>\n",
              "      <th>education</th>\n",
              "      <th>educational-num</th>\n",
              "      <th>marital-status</th>\n",
              "      <th>occupation</th>\n",
              "      <th>relationship</th>\n",
              "      <th>race</th>\n",
              "      <th>gender</th>\n",
              "      <th>capital-gain</th>\n",
              "      <th>capital-loss</th>\n",
              "      <th>hours-per-week</th>\n",
              "      <th>native-country</th>\n",
              "      <th>income</th>\n",
              "      <th>age_bin</th>\n",
              "    </tr>\n",
              "  </thead>\n",
              "  <tbody>\n",
              "    <tr>\n",
              "      <th>0</th>\n",
              "      <td>8</td>\n",
              "      <td>3</td>\n",
              "      <td>19329</td>\n",
              "      <td>1</td>\n",
              "      <td>6</td>\n",
              "      <td>4</td>\n",
              "      <td>6</td>\n",
              "      <td>3</td>\n",
              "      <td>2</td>\n",
              "      <td>1</td>\n",
              "      <td>0</td>\n",
              "      <td>0</td>\n",
              "      <td>39</td>\n",
              "      <td>38</td>\n",
              "      <td>0</td>\n",
              "      <td>2</td>\n",
              "    </tr>\n",
              "    <tr>\n",
              "      <th>1</th>\n",
              "      <td>21</td>\n",
              "      <td>3</td>\n",
              "      <td>4212</td>\n",
              "      <td>11</td>\n",
              "      <td>8</td>\n",
              "      <td>2</td>\n",
              "      <td>4</td>\n",
              "      <td>0</td>\n",
              "      <td>4</td>\n",
              "      <td>1</td>\n",
              "      <td>0</td>\n",
              "      <td>0</td>\n",
              "      <td>49</td>\n",
              "      <td>38</td>\n",
              "      <td>0</td>\n",
              "      <td>5</td>\n",
              "    </tr>\n",
              "    <tr>\n",
              "      <th>2</th>\n",
              "      <td>11</td>\n",
              "      <td>1</td>\n",
              "      <td>25340</td>\n",
              "      <td>7</td>\n",
              "      <td>11</td>\n",
              "      <td>2</td>\n",
              "      <td>10</td>\n",
              "      <td>0</td>\n",
              "      <td>4</td>\n",
              "      <td>1</td>\n",
              "      <td>0</td>\n",
              "      <td>0</td>\n",
              "      <td>39</td>\n",
              "      <td>38</td>\n",
              "      <td>1</td>\n",
              "      <td>3</td>\n",
              "    </tr>\n",
              "    <tr>\n",
              "      <th>3</th>\n",
              "      <td>27</td>\n",
              "      <td>3</td>\n",
              "      <td>11201</td>\n",
              "      <td>15</td>\n",
              "      <td>9</td>\n",
              "      <td>2</td>\n",
              "      <td>6</td>\n",
              "      <td>0</td>\n",
              "      <td>2</td>\n",
              "      <td>1</td>\n",
              "      <td>98</td>\n",
              "      <td>0</td>\n",
              "      <td>39</td>\n",
              "      <td>38</td>\n",
              "      <td>1</td>\n",
              "      <td>7</td>\n",
              "    </tr>\n",
              "    <tr>\n",
              "      <th>4</th>\n",
              "      <td>1</td>\n",
              "      <td>3</td>\n",
              "      <td>5411</td>\n",
              "      <td>15</td>\n",
              "      <td>9</td>\n",
              "      <td>4</td>\n",
              "      <td>9</td>\n",
              "      <td>3</td>\n",
              "      <td>4</td>\n",
              "      <td>0</td>\n",
              "      <td>0</td>\n",
              "      <td>0</td>\n",
              "      <td>29</td>\n",
              "      <td>38</td>\n",
              "      <td>0</td>\n",
              "      <td>0</td>\n",
              "    </tr>\n",
              "  </tbody>\n",
              "</table>\n",
              "</div>"
            ],
            "text/plain": [
              "   age  workclass  fnlwgt  education  educational-num  marital-status  \\\n",
              "0    8          3   19329          1                6               4   \n",
              "1   21          3    4212         11                8               2   \n",
              "2   11          1   25340          7               11               2   \n",
              "3   27          3   11201         15                9               2   \n",
              "4    1          3    5411         15                9               4   \n",
              "\n",
              "   occupation  relationship  race  gender  capital-gain  capital-loss  \\\n",
              "0           6             3     2       1             0             0   \n",
              "1           4             0     4       1             0             0   \n",
              "2          10             0     4       1             0             0   \n",
              "3           6             0     2       1            98             0   \n",
              "4           9             3     4       0             0             0   \n",
              "\n",
              "   hours-per-week  native-country  income  age_bin  \n",
              "0              39              38       0        2  \n",
              "1              49              38       0        5  \n",
              "2              39              38       1        3  \n",
              "3              39              38       1        7  \n",
              "4              29              38       0        0  "
            ]
          },
          "execution_count": 22,
          "metadata": {},
          "output_type": "execute_result"
        }
      ],
      "source": [
        "df = df.apply(LabelEncoder().fit_transform)\n",
        "df.head()"
      ]
    },
    {
      "cell_type": "code",
      "execution_count": null,
      "metadata": {
        "id": "YIFHIwiEa5C-"
      },
      "outputs": [],
      "source": [
        "df['predclass'] = df['income']\n",
        "del df['income']\n",
        "df['education-num'] = df['educational-num']\n",
        "del df['educational-num']"
      ]
    },
    {
      "cell_type": "code",
      "execution_count": null,
      "metadata": {
        "id": "4OYaG_lza5C_",
        "outputId": "5a58e5c3-4842-42ea-a3b6-f1cc63208450"
      },
      "outputs": [
        {
          "data": {
            "text/html": [
              "<div>\n",
              "<style scoped>\n",
              "    .dataframe tbody tr th:only-of-type {\n",
              "        vertical-align: middle;\n",
              "    }\n",
              "\n",
              "    .dataframe tbody tr th {\n",
              "        vertical-align: top;\n",
              "    }\n",
              "\n",
              "    .dataframe thead th {\n",
              "        text-align: right;\n",
              "    }\n",
              "</style>\n",
              "<table border=\"1\" class=\"dataframe\">\n",
              "  <thead>\n",
              "    <tr style=\"text-align: right;\">\n",
              "      <th></th>\n",
              "      <th>age</th>\n",
              "      <th>workclass</th>\n",
              "      <th>fnlwgt</th>\n",
              "      <th>marital-status</th>\n",
              "      <th>occupation</th>\n",
              "      <th>relationship</th>\n",
              "      <th>race</th>\n",
              "      <th>gender</th>\n",
              "      <th>capital-gain</th>\n",
              "      <th>capital-loss</th>\n",
              "      <th>hours-per-week</th>\n",
              "      <th>education-num</th>\n",
              "    </tr>\n",
              "  </thead>\n",
              "  <tbody>\n",
              "    <tr>\n",
              "      <th>0</th>\n",
              "      <td>8</td>\n",
              "      <td>3</td>\n",
              "      <td>19329</td>\n",
              "      <td>4</td>\n",
              "      <td>6</td>\n",
              "      <td>3</td>\n",
              "      <td>2</td>\n",
              "      <td>1</td>\n",
              "      <td>0</td>\n",
              "      <td>0</td>\n",
              "      <td>39</td>\n",
              "      <td>6</td>\n",
              "    </tr>\n",
              "    <tr>\n",
              "      <th>1</th>\n",
              "      <td>21</td>\n",
              "      <td>3</td>\n",
              "      <td>4212</td>\n",
              "      <td>2</td>\n",
              "      <td>4</td>\n",
              "      <td>0</td>\n",
              "      <td>4</td>\n",
              "      <td>1</td>\n",
              "      <td>0</td>\n",
              "      <td>0</td>\n",
              "      <td>49</td>\n",
              "      <td>8</td>\n",
              "    </tr>\n",
              "    <tr>\n",
              "      <th>2</th>\n",
              "      <td>11</td>\n",
              "      <td>1</td>\n",
              "      <td>25340</td>\n",
              "      <td>2</td>\n",
              "      <td>10</td>\n",
              "      <td>0</td>\n",
              "      <td>4</td>\n",
              "      <td>1</td>\n",
              "      <td>0</td>\n",
              "      <td>0</td>\n",
              "      <td>39</td>\n",
              "      <td>11</td>\n",
              "    </tr>\n",
              "    <tr>\n",
              "      <th>3</th>\n",
              "      <td>27</td>\n",
              "      <td>3</td>\n",
              "      <td>11201</td>\n",
              "      <td>2</td>\n",
              "      <td>6</td>\n",
              "      <td>0</td>\n",
              "      <td>2</td>\n",
              "      <td>1</td>\n",
              "      <td>98</td>\n",
              "      <td>0</td>\n",
              "      <td>39</td>\n",
              "      <td>9</td>\n",
              "    </tr>\n",
              "    <tr>\n",
              "      <th>4</th>\n",
              "      <td>1</td>\n",
              "      <td>3</td>\n",
              "      <td>5411</td>\n",
              "      <td>4</td>\n",
              "      <td>9</td>\n",
              "      <td>3</td>\n",
              "      <td>4</td>\n",
              "      <td>0</td>\n",
              "      <td>0</td>\n",
              "      <td>0</td>\n",
              "      <td>29</td>\n",
              "      <td>9</td>\n",
              "    </tr>\n",
              "  </tbody>\n",
              "</table>\n",
              "</div>"
            ],
            "text/plain": [
              "   age  workclass  fnlwgt  marital-status  occupation  relationship  race  \\\n",
              "0    8          3   19329               4           6             3     2   \n",
              "1   21          3    4212               2           4             0     4   \n",
              "2   11          1   25340               2          10             0     4   \n",
              "3   27          3   11201               2           6             0     2   \n",
              "4    1          3    5411               4           9             3     4   \n",
              "\n",
              "   gender  capital-gain  capital-loss  hours-per-week  education-num  \n",
              "0       1             0             0              39              6  \n",
              "1       1             0             0              49              8  \n",
              "2       1             0             0              39             11  \n",
              "3       1            98             0              39              9  \n",
              "4       0             0             0              29              9  "
            ]
          },
          "execution_count": 24,
          "metadata": {},
          "output_type": "execute_result"
        }
      ],
      "source": [
        "drop_elements = ['education', 'native-country', 'predclass', 'age_bin']\n",
        "y = df[\"predclass\"]\n",
        "X = df.drop(drop_elements, axis=1)\n",
        "X.head()"
      ]
    },
    {
      "cell_type": "code",
      "execution_count": null,
      "metadata": {
        "id": "k0rD6FMGa5C_"
      },
      "outputs": [],
      "source": [
        "X_train, X_test, y_train, y_test = train_test_split(X, y, test_size=0.2, random_state=2)"
      ]
    },
    {
      "cell_type": "code",
      "execution_count": null,
      "metadata": {
        "id": "s-Q79QkSa5C_"
      },
      "outputs": [],
      "source": [
        "from sklearn.preprocessing import StandardScaler"
      ]
    },
    {
      "cell_type": "code",
      "execution_count": null,
      "metadata": {
        "id": "RC8qnXSka5DA"
      },
      "outputs": [],
      "source": [
        "sc = StandardScaler()\n",
        "X_train_std = sc.fit_transform(X_train)"
      ]
    },
    {
      "cell_type": "code",
      "execution_count": null,
      "metadata": {
        "id": "s9hS7l2Wa5DA",
        "outputId": "0caf855b-9c00-45c5-d732-1e0cfc708ccb"
      },
      "outputs": [
        {
          "name": "stdout",
          "output_type": "stream",
          "text": [
            "The accuracy of the Logistic Regression is 0.7986487869792199\n"
          ]
        }
      ],
      "source": [
        "from sklearn.linear_model import LogisticRegression #logistic regression\n",
        "# Logistic Regression\n",
        "logreg = LogisticRegression()\n",
        "logreg.fit(X_train, y_train)\n",
        "#y_pred = logreg.predict(X_test)\n",
        "score_logreg = logreg.score(X_test,y_test)\n",
        "print('The accuracy of the Logistic Regression is', score_logreg)"
      ]
    }
  ],
  "metadata": {
    "kernelspec": {
      "display_name": "Python 3",
      "language": "python",
      "name": "python3"
    },
    "language_info": {
      "codemirror_mode": {
        "name": "ipython",
        "version": 3
      },
      "file_extension": ".py",
      "mimetype": "text/x-python",
      "name": "python",
      "nbconvert_exporter": "python",
      "pygments_lexer": "ipython3",
      "version": "3.7.6"
    },
    "colab": {
      "name": "2148051_Lab 6.ipynb",
      "provenance": []
    }
  },
  "nbformat": 4,
  "nbformat_minor": 0
}